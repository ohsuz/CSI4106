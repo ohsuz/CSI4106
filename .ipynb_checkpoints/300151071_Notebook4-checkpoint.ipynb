{
 "cells": [
  {
   "cell_type": "markdown",
   "metadata": {},
   "source": [
    "# Notebook 4 - Neural Networks (MLP)"
   ]
  },
  {
   "cell_type": "markdown",
   "metadata": {},
   "source": [
    "CSI4106 Artificial Intelligence  \n",
    "Fall 2019  \n",
    "Prepared by Caroline Barrière and Julian Templeton"
   ]
  },
  {
   "cell_type": "markdown",
   "metadata": {},
   "source": [
    "***INTRODUCTION***:  \n",
    "\n",
    "We are going into the medical domain for this notebook. The supervised classification task tackled in this notebook is about diabetes patient readmission to a hospital, provided a certain set of features describing their physical state, the procedure they went through during their stay, the medications they take, etc.\n",
    "\n",
    "Any *readmitted patient* is very costly for a medical system. It shows to some extent, that the patient was discharged before having fully recovered. The dataset we explore splits readmission into 3 values: before 30 days, after 30 days, and none.  Understanding what conditions brings patients back to the hospital within 30 days is very important for a medical system, as these cases should be minimized.\n",
    "\n",
    "This notebook will allow you to pursue your understanding of experimental set-up for supervised machine learning, in particular supervised classification through the use of multi-layer perceptrons.\n",
    "\n",
    "We will make use of three packages: (1) **scikit-learn**, a great machine learning package, which you've experimented with in the last notebook, (2) **pandas**, a must-have for data science, and (3) **matplotlib** which is a great plotting library (pip install matplotlib).  Make sure you have the LATEST version of scikit-learn (at least version >= 0.20), otherwise some functions (the one-hot-encoder) will not work.\n",
    "\n",
    "As this is your 4th notebook this semester, some instructions will be a bit less explicit and may require looking at some online official documentation. If you have any assumptions state them and think about how to handle the questions."
   ]
  },
  {
   "cell_type": "markdown",
   "metadata": {},
   "source": [
    "***HOMEWORK***:  \n",
    "Go through the notebook by running each cell, one at a time.  \n",
    "Look for **(TO DO)** for the tasks that you need to perform. Do not edit the code outside of the questions which you are asked to answer unless specifically asked. Once you're done, Sign the notebook (at the end of the notebook), and submit it.  \n",
    "\n",
    "*The notebook will be marked on 32.  \n",
    "Each **(TO DO)** has a number of points associated with it.*\n",
    "***"
   ]
  },
  {
   "cell_type": "markdown",
   "metadata": {},
   "source": [
    "**1. Obtaining the dataset**\n",
    "\n",
    "First, read the description of the dataset on Diabetes Readmission (https://www.kaggle.com/brandao/diabetes).\n",
    "\n",
    "Next download the dataset from the UCI archive (click *Data Folder* --> download *dataset_diabetes.zip*):\n",
    "https://archive.ics.uci.edu/ml/datasets/Diabetes+130-US+hospitals+for+years+1999-2008\n",
    "\n",
    "Unzip the file *dataset_diabetes.zip* and there should be a file called *diabetic_data.csv* which we will use for our experiments. The file must be located at *dataset_diabetes/diabetic_data.csv* from the same directory as this notebook."
   ]
  },
  {
   "cell_type": "markdown",
   "metadata": {},
   "source": [
    "**2. Exploring the dataset**  \n",
    "We will use the package *pandas* to read the csv file. Pandas will create a data structure called a dataframe, which will contain all the data. Dataframes are a crucial data structure that allows makes it very easy to analyze the data that you are working with, retrieve subsets of the data based on search conditions, and utilize the data in Machine Learning algorithms.\n",
    "\n",
    "If you get some errors when you import the packages, it's because they are not installed... make sure you do *pip install package_name* (or whichever method you have been using to install the packages) at the command prompt to have access to these packages."
   ]
  },
  {
   "cell_type": "code",
   "execution_count": 1,
   "metadata": {},
   "outputs": [],
   "source": [
    "# Import the required packages for data analysis and machine learning\n",
    "import pandas as pd\n",
    "import sklearn\n",
    "import matplotlib.pyplot as plt"
   ]
  },
  {
   "cell_type": "markdown",
   "metadata": {},
   "source": [
    "The following code reads the csv file into a dataframe and shows the top ten rows from the read data.  \n",
    "Note that ? means that the value is *missing* from the dataset."
   ]
  },
  {
   "cell_type": "code",
   "execution_count": 2,
   "metadata": {},
   "outputs": [
    {
     "data": {
      "text/html": [
       "<div>\n",
       "<style scoped>\n",
       "    .dataframe tbody tr th:only-of-type {\n",
       "        vertical-align: middle;\n",
       "    }\n",
       "\n",
       "    .dataframe tbody tr th {\n",
       "        vertical-align: top;\n",
       "    }\n",
       "\n",
       "    .dataframe thead th {\n",
       "        text-align: right;\n",
       "    }\n",
       "</style>\n",
       "<table border=\"1\" class=\"dataframe\">\n",
       "  <thead>\n",
       "    <tr style=\"text-align: right;\">\n",
       "      <th></th>\n",
       "      <th>encounter_id</th>\n",
       "      <th>patient_nbr</th>\n",
       "      <th>race</th>\n",
       "      <th>gender</th>\n",
       "      <th>age</th>\n",
       "      <th>weight</th>\n",
       "      <th>admission_type_id</th>\n",
       "      <th>discharge_disposition_id</th>\n",
       "      <th>admission_source_id</th>\n",
       "      <th>time_in_hospital</th>\n",
       "      <th>...</th>\n",
       "      <th>citoglipton</th>\n",
       "      <th>insulin</th>\n",
       "      <th>glyburide-metformin</th>\n",
       "      <th>glipizide-metformin</th>\n",
       "      <th>glimepiride-pioglitazone</th>\n",
       "      <th>metformin-rosiglitazone</th>\n",
       "      <th>metformin-pioglitazone</th>\n",
       "      <th>change</th>\n",
       "      <th>diabetesMed</th>\n",
       "      <th>readmitted</th>\n",
       "    </tr>\n",
       "  </thead>\n",
       "  <tbody>\n",
       "    <tr>\n",
       "      <th>0</th>\n",
       "      <td>2278392</td>\n",
       "      <td>8222157</td>\n",
       "      <td>Caucasian</td>\n",
       "      <td>Female</td>\n",
       "      <td>[0-10)</td>\n",
       "      <td>?</td>\n",
       "      <td>6</td>\n",
       "      <td>25</td>\n",
       "      <td>1</td>\n",
       "      <td>1</td>\n",
       "      <td>...</td>\n",
       "      <td>No</td>\n",
       "      <td>No</td>\n",
       "      <td>No</td>\n",
       "      <td>No</td>\n",
       "      <td>No</td>\n",
       "      <td>No</td>\n",
       "      <td>No</td>\n",
       "      <td>No</td>\n",
       "      <td>No</td>\n",
       "      <td>NO</td>\n",
       "    </tr>\n",
       "    <tr>\n",
       "      <th>1</th>\n",
       "      <td>149190</td>\n",
       "      <td>55629189</td>\n",
       "      <td>Caucasian</td>\n",
       "      <td>Female</td>\n",
       "      <td>[10-20)</td>\n",
       "      <td>?</td>\n",
       "      <td>1</td>\n",
       "      <td>1</td>\n",
       "      <td>7</td>\n",
       "      <td>3</td>\n",
       "      <td>...</td>\n",
       "      <td>No</td>\n",
       "      <td>Up</td>\n",
       "      <td>No</td>\n",
       "      <td>No</td>\n",
       "      <td>No</td>\n",
       "      <td>No</td>\n",
       "      <td>No</td>\n",
       "      <td>Ch</td>\n",
       "      <td>Yes</td>\n",
       "      <td>&gt;30</td>\n",
       "    </tr>\n",
       "    <tr>\n",
       "      <th>2</th>\n",
       "      <td>64410</td>\n",
       "      <td>86047875</td>\n",
       "      <td>AfricanAmerican</td>\n",
       "      <td>Female</td>\n",
       "      <td>[20-30)</td>\n",
       "      <td>?</td>\n",
       "      <td>1</td>\n",
       "      <td>1</td>\n",
       "      <td>7</td>\n",
       "      <td>2</td>\n",
       "      <td>...</td>\n",
       "      <td>No</td>\n",
       "      <td>No</td>\n",
       "      <td>No</td>\n",
       "      <td>No</td>\n",
       "      <td>No</td>\n",
       "      <td>No</td>\n",
       "      <td>No</td>\n",
       "      <td>No</td>\n",
       "      <td>Yes</td>\n",
       "      <td>NO</td>\n",
       "    </tr>\n",
       "    <tr>\n",
       "      <th>3</th>\n",
       "      <td>500364</td>\n",
       "      <td>82442376</td>\n",
       "      <td>Caucasian</td>\n",
       "      <td>Male</td>\n",
       "      <td>[30-40)</td>\n",
       "      <td>?</td>\n",
       "      <td>1</td>\n",
       "      <td>1</td>\n",
       "      <td>7</td>\n",
       "      <td>2</td>\n",
       "      <td>...</td>\n",
       "      <td>No</td>\n",
       "      <td>Up</td>\n",
       "      <td>No</td>\n",
       "      <td>No</td>\n",
       "      <td>No</td>\n",
       "      <td>No</td>\n",
       "      <td>No</td>\n",
       "      <td>Ch</td>\n",
       "      <td>Yes</td>\n",
       "      <td>NO</td>\n",
       "    </tr>\n",
       "    <tr>\n",
       "      <th>4</th>\n",
       "      <td>16680</td>\n",
       "      <td>42519267</td>\n",
       "      <td>Caucasian</td>\n",
       "      <td>Male</td>\n",
       "      <td>[40-50)</td>\n",
       "      <td>?</td>\n",
       "      <td>1</td>\n",
       "      <td>1</td>\n",
       "      <td>7</td>\n",
       "      <td>1</td>\n",
       "      <td>...</td>\n",
       "      <td>No</td>\n",
       "      <td>Steady</td>\n",
       "      <td>No</td>\n",
       "      <td>No</td>\n",
       "      <td>No</td>\n",
       "      <td>No</td>\n",
       "      <td>No</td>\n",
       "      <td>Ch</td>\n",
       "      <td>Yes</td>\n",
       "      <td>NO</td>\n",
       "    </tr>\n",
       "    <tr>\n",
       "      <th>5</th>\n",
       "      <td>35754</td>\n",
       "      <td>82637451</td>\n",
       "      <td>Caucasian</td>\n",
       "      <td>Male</td>\n",
       "      <td>[50-60)</td>\n",
       "      <td>?</td>\n",
       "      <td>2</td>\n",
       "      <td>1</td>\n",
       "      <td>2</td>\n",
       "      <td>3</td>\n",
       "      <td>...</td>\n",
       "      <td>No</td>\n",
       "      <td>Steady</td>\n",
       "      <td>No</td>\n",
       "      <td>No</td>\n",
       "      <td>No</td>\n",
       "      <td>No</td>\n",
       "      <td>No</td>\n",
       "      <td>No</td>\n",
       "      <td>Yes</td>\n",
       "      <td>&gt;30</td>\n",
       "    </tr>\n",
       "    <tr>\n",
       "      <th>6</th>\n",
       "      <td>55842</td>\n",
       "      <td>84259809</td>\n",
       "      <td>Caucasian</td>\n",
       "      <td>Male</td>\n",
       "      <td>[60-70)</td>\n",
       "      <td>?</td>\n",
       "      <td>3</td>\n",
       "      <td>1</td>\n",
       "      <td>2</td>\n",
       "      <td>4</td>\n",
       "      <td>...</td>\n",
       "      <td>No</td>\n",
       "      <td>Steady</td>\n",
       "      <td>No</td>\n",
       "      <td>No</td>\n",
       "      <td>No</td>\n",
       "      <td>No</td>\n",
       "      <td>No</td>\n",
       "      <td>Ch</td>\n",
       "      <td>Yes</td>\n",
       "      <td>NO</td>\n",
       "    </tr>\n",
       "    <tr>\n",
       "      <th>7</th>\n",
       "      <td>63768</td>\n",
       "      <td>114882984</td>\n",
       "      <td>Caucasian</td>\n",
       "      <td>Male</td>\n",
       "      <td>[70-80)</td>\n",
       "      <td>?</td>\n",
       "      <td>1</td>\n",
       "      <td>1</td>\n",
       "      <td>7</td>\n",
       "      <td>5</td>\n",
       "      <td>...</td>\n",
       "      <td>No</td>\n",
       "      <td>No</td>\n",
       "      <td>No</td>\n",
       "      <td>No</td>\n",
       "      <td>No</td>\n",
       "      <td>No</td>\n",
       "      <td>No</td>\n",
       "      <td>No</td>\n",
       "      <td>Yes</td>\n",
       "      <td>&gt;30</td>\n",
       "    </tr>\n",
       "    <tr>\n",
       "      <th>8</th>\n",
       "      <td>12522</td>\n",
       "      <td>48330783</td>\n",
       "      <td>Caucasian</td>\n",
       "      <td>Female</td>\n",
       "      <td>[80-90)</td>\n",
       "      <td>?</td>\n",
       "      <td>2</td>\n",
       "      <td>1</td>\n",
       "      <td>4</td>\n",
       "      <td>13</td>\n",
       "      <td>...</td>\n",
       "      <td>No</td>\n",
       "      <td>Steady</td>\n",
       "      <td>No</td>\n",
       "      <td>No</td>\n",
       "      <td>No</td>\n",
       "      <td>No</td>\n",
       "      <td>No</td>\n",
       "      <td>Ch</td>\n",
       "      <td>Yes</td>\n",
       "      <td>NO</td>\n",
       "    </tr>\n",
       "    <tr>\n",
       "      <th>9</th>\n",
       "      <td>15738</td>\n",
       "      <td>63555939</td>\n",
       "      <td>Caucasian</td>\n",
       "      <td>Female</td>\n",
       "      <td>[90-100)</td>\n",
       "      <td>?</td>\n",
       "      <td>3</td>\n",
       "      <td>3</td>\n",
       "      <td>4</td>\n",
       "      <td>12</td>\n",
       "      <td>...</td>\n",
       "      <td>No</td>\n",
       "      <td>Steady</td>\n",
       "      <td>No</td>\n",
       "      <td>No</td>\n",
       "      <td>No</td>\n",
       "      <td>No</td>\n",
       "      <td>No</td>\n",
       "      <td>Ch</td>\n",
       "      <td>Yes</td>\n",
       "      <td>NO</td>\n",
       "    </tr>\n",
       "  </tbody>\n",
       "</table>\n",
       "<p>10 rows × 50 columns</p>\n",
       "</div>"
      ],
      "text/plain": [
       "   encounter_id  patient_nbr             race  gender       age weight  \\\n",
       "0       2278392      8222157        Caucasian  Female    [0-10)      ?   \n",
       "1        149190     55629189        Caucasian  Female   [10-20)      ?   \n",
       "2         64410     86047875  AfricanAmerican  Female   [20-30)      ?   \n",
       "3        500364     82442376        Caucasian    Male   [30-40)      ?   \n",
       "4         16680     42519267        Caucasian    Male   [40-50)      ?   \n",
       "5         35754     82637451        Caucasian    Male   [50-60)      ?   \n",
       "6         55842     84259809        Caucasian    Male   [60-70)      ?   \n",
       "7         63768    114882984        Caucasian    Male   [70-80)      ?   \n",
       "8         12522     48330783        Caucasian  Female   [80-90)      ?   \n",
       "9         15738     63555939        Caucasian  Female  [90-100)      ?   \n",
       "\n",
       "   admission_type_id  discharge_disposition_id  admission_source_id  \\\n",
       "0                  6                        25                    1   \n",
       "1                  1                         1                    7   \n",
       "2                  1                         1                    7   \n",
       "3                  1                         1                    7   \n",
       "4                  1                         1                    7   \n",
       "5                  2                         1                    2   \n",
       "6                  3                         1                    2   \n",
       "7                  1                         1                    7   \n",
       "8                  2                         1                    4   \n",
       "9                  3                         3                    4   \n",
       "\n",
       "   time_in_hospital  ... citoglipton insulin  glyburide-metformin  \\\n",
       "0                 1  ...          No      No                   No   \n",
       "1                 3  ...          No      Up                   No   \n",
       "2                 2  ...          No      No                   No   \n",
       "3                 2  ...          No      Up                   No   \n",
       "4                 1  ...          No  Steady                   No   \n",
       "5                 3  ...          No  Steady                   No   \n",
       "6                 4  ...          No  Steady                   No   \n",
       "7                 5  ...          No      No                   No   \n",
       "8                13  ...          No  Steady                   No   \n",
       "9                12  ...          No  Steady                   No   \n",
       "\n",
       "   glipizide-metformin  glimepiride-pioglitazone  metformin-rosiglitazone  \\\n",
       "0                   No                        No                       No   \n",
       "1                   No                        No                       No   \n",
       "2                   No                        No                       No   \n",
       "3                   No                        No                       No   \n",
       "4                   No                        No                       No   \n",
       "5                   No                        No                       No   \n",
       "6                   No                        No                       No   \n",
       "7                   No                        No                       No   \n",
       "8                   No                        No                       No   \n",
       "9                   No                        No                       No   \n",
       "\n",
       "   metformin-pioglitazone  change diabetesMed readmitted  \n",
       "0                      No      No          No         NO  \n",
       "1                      No      Ch         Yes        >30  \n",
       "2                      No      No         Yes         NO  \n",
       "3                      No      Ch         Yes         NO  \n",
       "4                      No      Ch         Yes         NO  \n",
       "5                      No      No         Yes        >30  \n",
       "6                      No      Ch         Yes         NO  \n",
       "7                      No      No         Yes        >30  \n",
       "8                      No      Ch         Yes         NO  \n",
       "9                      No      Ch         Yes         NO  \n",
       "\n",
       "[10 rows x 50 columns]"
      ]
     },
     "execution_count": 2,
     "metadata": {},
     "output_type": "execute_result"
    }
   ],
   "source": [
    "# Read the dataset, show top ten rows\n",
    "X = pd.read_csv(\"dataset_diabetes/diabetic_data.csv\")\n",
    "X.head(10)"
   ]
  },
  {
   "cell_type": "code",
   "execution_count": 3,
   "metadata": {},
   "outputs": [
    {
     "data": {
      "text/plain": [
       "['encounter_id',\n",
       " 'patient_nbr',\n",
       " 'race',\n",
       " 'gender',\n",
       " 'age',\n",
       " 'weight',\n",
       " 'admission_type_id',\n",
       " 'discharge_disposition_id',\n",
       " 'admission_source_id',\n",
       " 'time_in_hospital',\n",
       " 'payer_code',\n",
       " 'medical_specialty',\n",
       " 'num_lab_procedures',\n",
       " 'num_procedures',\n",
       " 'num_medications',\n",
       " 'number_outpatient',\n",
       " 'number_emergency',\n",
       " 'number_inpatient',\n",
       " 'diag_1',\n",
       " 'diag_2',\n",
       " 'diag_3',\n",
       " 'number_diagnoses',\n",
       " 'max_glu_serum',\n",
       " 'A1Cresult',\n",
       " 'metformin',\n",
       " 'repaglinide',\n",
       " 'nateglinide',\n",
       " 'chlorpropamide',\n",
       " 'glimepiride',\n",
       " 'acetohexamide',\n",
       " 'glipizide',\n",
       " 'glyburide',\n",
       " 'tolbutamide',\n",
       " 'pioglitazone',\n",
       " 'rosiglitazone',\n",
       " 'acarbose',\n",
       " 'miglitol',\n",
       " 'troglitazone',\n",
       " 'tolazamide',\n",
       " 'examide',\n",
       " 'citoglipton',\n",
       " 'insulin',\n",
       " 'glyburide-metformin',\n",
       " 'glipizide-metformin',\n",
       " 'glimepiride-pioglitazone',\n",
       " 'metformin-rosiglitazone',\n",
       " 'metformin-pioglitazone',\n",
       " 'change',\n",
       " 'diabetesMed',\n",
       " 'readmitted']"
      ]
     },
     "execution_count": 3,
     "metadata": {},
     "output_type": "execute_result"
    }
   ],
   "source": [
    "# Show all attributes\n",
    "list(X)"
   ]
  },
  {
   "cell_type": "code",
   "execution_count": 4,
   "metadata": {},
   "outputs": [
    {
     "name": "stdout",
     "output_type": "stream",
     "text": [
      "(101766, 50)\n",
      "Caucasian          76099\n",
      "AfricanAmerican    19210\n",
      "?                   2273\n",
      "Hispanic            2037\n",
      "Other               1506\n",
      "Asian                641\n",
      "Name: race, dtype: int64\n"
     ]
    }
   ],
   "source": [
    "# Examples of data exploration\n",
    "print(X.shape)\n",
    "print(X['race'].value_counts())"
   ]
  },
  {
   "cell_type": "markdown",
   "metadata": {},
   "source": [
    "**(TO DO) Q1 - 3 marks**  (0.5 each)    \n",
    "Inspired by the code above, write code to answer the following questions. Your code must help in finding the answer. Print the question that you are answering along with the answer that the code helped find (can manually write specific code, as long as the code helps to get the answer).\n",
    "\n",
    "1. How many examples are in the dataset?\n",
    "2. How many features are in the dataset?\n",
    "3. How many target classes are in the dataset?\n",
    "4. What are the possible weight ranges (including ?), and the number of examples in each?\n",
    "5. What are the prior probabilities of each class (NO, <30, >30)?\n",
    "6. Are there any patients present in the dataset more than 20 times?"
   ]
  },
  {
   "cell_type": "code",
   "execution_count": 5,
   "metadata": {},
   "outputs": [
    {
     "name": "stdout",
     "output_type": "stream",
     "text": [
      "1. \n",
      "There are 101766 many examples in the dataset.\n",
      "2.\n",
      "There are 49 many features in the dataset.\n",
      "3.\n",
      "There are 1 many target classes in the dataset.\n",
      "4.\n",
      "The weight ranges are: ([Weight_range), examples in range)\n",
      "('?', 98569)\n",
      "('[75-100)', 1336)\n",
      "('[50-75)', 897)\n",
      "('[100-125)', 625)\n",
      "('[125-150)', 145)\n",
      "('[25-50)', 97)\n",
      "('[0-25)', 48)\n",
      "('[150-175)', 35)\n",
      "('[175-200)', 11)\n",
      "('>200', 3)\n",
      "5.\n",
      "Prior probability of NO is 0.5391191557101586\n",
      "Prior probability of >30 is 0.3492816854352141\n",
      "Prior probability of <30 is 0.11159915885462728\n",
      "6.\n",
      "Patient 88785891 is present in the dataset more than 20 times.\n",
      "Patient 43140906 is present in the dataset more than 20 times.\n",
      "Patient 23199021 is present in the dataset more than 20 times.\n",
      "Patient 1660293 is present in the dataset more than 20 times.\n",
      "Patient 88227540 is present in the dataset more than 20 times.\n",
      "Patient 23643405 is present in the dataset more than 20 times.\n",
      "Patient 84428613 is present in the dataset more than 20 times.\n",
      "Patient 92709351 is present in the dataset more than 20 times.\n"
     ]
    }
   ],
   "source": [
    "# 1. How many examples are in the dataset?\n",
    "print(\"1. \")\n",
    "print(\"There are\", X.shape[0], \"many examples in the dataset.\")\n",
    "\n",
    "# 2. How many features are in the dataset?\n",
    "print(\"2.\")\n",
    "print(\"There are\", X.shape[1] - 1, \"many features in the dataset.\")\n",
    "\n",
    "# 3. How many target classes are in the dataset?\n",
    "print(\"3.\")\n",
    "print(\"There are\", X.shape[1] - (X.shape[1] - 1), \"many target classes in the dataset.\")\n",
    "\n",
    "# 4. What are the possible weight ranges, and the number of examples in each?\n",
    "print(\"4.\")\n",
    "print(\"The weight ranges are: ([Weight_range), examples in range)\")\n",
    "for weightRange in X['weight'].value_counts().iteritems():\n",
    "    print(weightRange)\n",
    "\n",
    "# 5. What are the prior probabilities of each class (NO, <30, >30)?\n",
    "print(\"5.\")\n",
    "for readmittedRange in X['readmitted'].value_counts().iteritems():\n",
    "    print(\"Prior probability of\", readmittedRange[0], \"is\", (readmittedRange[1] / X['readmitted'].shape[0]))\n",
    "\n",
    "# 6. Are there some patient present in the dataset more than 20 times?\n",
    "print(\"6.\")\n",
    "for patient in X['patient_nbr'].value_counts().iteritems():\n",
    "    if (patient[1] > 20): print(\"Patient\", patient[0], \"is present in the dataset more than 20 times.\")\n"
   ]
  },
  {
   "cell_type": "markdown",
   "metadata": {},
   "source": [
    "**3. Feature Selection**  \n",
    "Now that we have taken a look into our data and played with it, we will decide which features would be suitable to use with our model.\n",
    "\n",
    "Feature selection is just as important as tuning a model (choosing hyperparameters such as the number of layers and their sizes). We need to be sure to choose high quality features that best represent our data in order to maximize the performance of our model. Simply putting every feature or selecting some without analyzing them may provide worse results. Thus, we need to consider which features to use by looking at the data itself to see if it would be a good match."
   ]
  },
  {
   "cell_type": "markdown",
   "metadata": {},
   "source": [
    "Some issues when working with data include:\n",
    "1. Is the data well distributed? That is, does it contain enough variety to provide a good split on the data.\n",
    "2. Are there missing values? The more missing values --> the less well these will work as features for many Machine Learning algorithms. Here, we will not focus on this issue, but it is important to know.\n",
    "3. Does this data represent our dataset well.\n",
    "4. Does the data work well with our selected algorithm (here is does)."
   ]
  },
  {
   "cell_type": "markdown",
   "metadata": {},
   "source": [
    "**(TO DO) Q2 - 4 marks**   \n",
    "In this notebook we will work with the following features along with a few others:  \n",
    "1. gender \n",
    "2. age \n",
    "3. weight \n",
    "4. time_in_hospital\n",
    "\n",
    "Explore each of the specified features by:   \n",
    "\n",
    "1) Plotting the distribution (histogram using kind=\"hist\" for numerical data or bar plots using kind=\"barh\" for categorical) and write if the data is well distributed   \n",
    "2) Identifying the number of missing/unknown/invalid values\n",
    "\n",
    "Remember, if you have any assumptions that you need to state, state them."
   ]
  },
  {
   "cell_type": "code",
   "execution_count": 6,
   "metadata": {},
   "outputs": [
    {
     "data": {
      "image/png": "[encoded data removed]",
      "text/plain": [
       "<Figure size 432x288 with 1 Axes>"
      ]
     },
     "metadata": {
      "needs_background": "light"
     },
     "output_type": "display_data"
    },
    {
     "name": "stdout",
     "output_type": "stream",
     "text": [
      "(Example.1): Is the above output well distributed? No it is not. This feature is highly imbalanced.\n",
      "(Example.2): There are 2273 missing values labelled as '?'.\n",
      "------------------------------ ^ Example ^ ------------------------------\n",
      "\n"
     ]
    },
    {
     "data": {
      "image/png": "[encoded data removed]",
      "text/plain": [
       "<Figure size 432x288 with 1 Axes>"
      ]
     },
     "metadata": {
      "needs_background": "light"
     },
     "output_type": "display_data"
    },
    {
     "name": "stdout",
     "output_type": "stream",
     "text": [
      "('Female', 54708)\n",
      "('Male', 47055)\n",
      "('Unknown/Invalid', 3)\n",
      "(1.1): Is the feature 'gender' well distributed? Yes it is well distributed with a slight imbalance\n",
      "(1.2): There are 3 missing values labelled as 'Unknown/Invalid'\n"
     ]
    },
    {
     "data": {
      "image/png": "[encoded data removed]",
      "text/plain": [
       "<Figure size 432x288 with 1 Axes>"
      ]
     },
     "metadata": {
      "needs_background": "light"
     },
     "output_type": "display_data"
    },
    {
     "name": "stdout",
     "output_type": "stream",
     "text": [
      "('[70-80)', 26068)\n",
      "('[60-70)', 22483)\n",
      "('[50-60)', 17256)\n",
      "('[80-90)', 17197)\n",
      "('[40-50)', 9685)\n",
      "('[30-40)', 3775)\n",
      "('[90-100)', 2793)\n",
      "('[20-30)', 1657)\n",
      "('[10-20)', 691)\n",
      "('[0-10)', 161)\n",
      "(2.1): Is the feature 'age' well distributed? No it is not well distributed.\n",
      "(2.2): There are 0 missing values.\n"
     ]
    },
    {
     "data": {
      "image/png": "[encoded data removed]",
      "text/plain": [
       "<Figure size 432x288 with 1 Axes>"
      ]
     },
     "metadata": {
      "needs_background": "light"
     },
     "output_type": "display_data"
    },
    {
     "name": "stdout",
     "output_type": "stream",
     "text": [
      "('?', 98569)\n",
      "('[75-100)', 1336)\n",
      "('[50-75)', 897)\n",
      "('[100-125)', 625)\n",
      "('[125-150)', 145)\n",
      "('[25-50)', 97)\n",
      "('[0-25)', 48)\n",
      "('[150-175)', 35)\n",
      "('[175-200)', 11)\n",
      "('>200', 3)\n",
      "(3.1): Is the feature 'weight' well distributed? No, it is poorly distributed\n",
      "(3.2): There are 98569 missing values labelled as '?'\n"
     ]
    },
    {
     "data": {
      "image/png": "[encoded data removed]",
      "text/plain": [
       "<Figure size 432x288 with 1 Axes>"
      ]
     },
     "metadata": {
      "needs_background": "light"
     },
     "output_type": "display_data"
    },
    {
     "name": "stdout",
     "output_type": "stream",
     "text": [
      "(3, 17756)\n",
      "(2, 17224)\n",
      "(1, 14208)\n",
      "(4, 13924)\n",
      "(5, 9966)\n",
      "(6, 7539)\n",
      "(7, 5859)\n",
      "(8, 4391)\n",
      "(9, 3002)\n",
      "(10, 2342)\n",
      "(11, 1855)\n",
      "(12, 1448)\n",
      "(13, 1210)\n",
      "(14, 1042)\n",
      "(4.1): Is the feature 'time_in_hospital' well distributed? No, it is not well distributed.\n",
      "(4.2): There are 0 missing values.\n"
     ]
    }
   ],
   "source": [
    "plt.figure()\n",
    "X[\"race\"].value_counts().plot(kind=\"barh\", title=\"EXAMPLE - Race Distribution\")\n",
    "plt.show()\n",
    "print(\"(Example.1): Is the above output well distributed? No it is not. This feature is highly imbalanced.\")\n",
    "print(\"(Example.2): There are 2273 missing values labelled as '?'.\")\n",
    "\n",
    "# gender\n",
    "plt.figure()\n",
    "X[\"gender\"].value_counts().plot(kind=\"barh\", title=\"EXAMPLE - Gender Distribution\")\n",
    "plt.show()\n",
    "for feature in X['gender'].value_counts().iteritems():\n",
    "    print(feature)\n",
    "print(\"(1.1): Is the feature 'gender' well distributed? Yes it is well distributed with a slight imbalance\")\n",
    "print(\"(1.2): There are 3 missing values labelled as 'Unknown/Invalid'\")\n",
    "\n",
    "# age\n",
    "plt.figure()\n",
    "X[\"age\"].value_counts().plot(kind=\"barh\", title=\"EXAMPLE - Age Distribution\")\n",
    "plt.show()\n",
    "for feature in X['age'].value_counts().iteritems():\n",
    "    print(feature)\n",
    "print(\"(2.1): Is the feature 'age' well distributed? No it is not well distributed.\")\n",
    "print(\"(2.2): There are 0 missing values.\")\n",
    "\n",
    "# weight\n",
    "plt.figure()\n",
    "X[\"weight\"].value_counts().plot(kind=\"barh\", title=\"EXAMPLE - Weight Distribution\")\n",
    "plt.show()\n",
    "for feature in X['weight'].value_counts().iteritems():\n",
    "    print(feature)\n",
    "print(\"(3.1): Is the feature 'weight' well distributed? No, it is poorly distributed\")\n",
    "print(\"(3.2): There are 98569 missing values labelled as '?'\")\n",
    "\n",
    "# time_in_hospital\n",
    "plt.figure()\n",
    "X[\"time_in_hospital\"].value_counts().plot(kind=\"hist\", title=\"EXAMPLE - time_in_hospital Distribution\")\n",
    "plt.show()\n",
    "for feature in X['time_in_hospital'].value_counts().iteritems():\n",
    "    print(feature)\n",
    "print(\"(4.1): Is the feature 'time_in_hospital' well distributed? No, it is not well distributed.\")\n",
    "print(\"(4.2): There are 0 missing values.\")"
   ]
  },
  {
   "cell_type": "markdown",
   "metadata": {},
   "source": [
    "**4. Preparing the dataset for experimentation**\n",
    "\n",
    "We will do different steps to prepare the data for experimentations:  (1) extracting the class we wish to predict, (2) splitting the dataset into a training and a test set"
   ]
  },
  {
   "cell_type": "code",
   "execution_count": 7,
   "metadata": {},
   "outputs": [],
   "source": [
    "# This can ONLY BE DONE ONCE, as we pop the values into a new variable to be used as predicted class\n",
    "y = X.pop(\"readmitted\").values"
   ]
  },
  {
   "cell_type": "code",
   "execution_count": 8,
   "metadata": {},
   "outputs": [
    {
     "name": "stdout",
     "output_type": "stream",
     "text": [
      "(76324, 49)\n",
      "(25442,)\n"
     ]
    }
   ],
   "source": [
    "# split the large dataset into train and test\n",
    "from sklearn.model_selection import train_test_split\n",
    "\n",
    "X_train, X_test, y_train, y_test = train_test_split(X, y, test_size = 0.25, random_state=1)\n",
    "# Look at the shape of the outputs\n",
    "print(X_train.shape)\n",
    "print(y_test.shape)"
   ]
  },
  {
   "cell_type": "code",
   "execution_count": 9,
   "metadata": {},
   "outputs": [
    {
     "data": {
      "text/plain": [
       "OneHotEncoder(categorical_features=None, categories=None, drop=None,\n",
       "              dtype=<class 'numpy.float64'>, handle_unknown='ignore',\n",
       "              n_values=None, sparse=False)"
      ]
     },
     "execution_count": 9,
     "metadata": {},
     "output_type": "execute_result"
    }
   ],
   "source": [
    "from sklearn import preprocessing\n",
    "from sklearn.preprocessing import OneHotEncoder\n",
    "\n",
    "# Setting up our one-hot encoder\n",
    "ohe = OneHotEncoder(sparse=False, handle_unknown='ignore')\n",
    "\n",
    "# Since the dataset is quite large, try with a subset of features\n",
    "featureSet = ['race','gender','age', 'weight', 'time_in_hospital', 'num_lab_procedures', 'num_procedures',\n",
    " 'num_medications']\n",
    "\n",
    "# Make a copy of the training set containing only the chosen features\n",
    "X_train_sf = X_train[featureSet].copy()\n",
    "X_test_sf = X_test[featureSet].copy()\n",
    "\n",
    "# IF you wanted to try with the full dataset, try to redo the steps with this (optional - takes a lot of time)\n",
    "# X_train_allf = X_train[:].copy()\n",
    "# X_test_allf = X_test[:].copy()\n",
    "\n",
    "# Perform the one-hot encoding using our one-hot encoder on the selected feature set\n",
    "ohe.fit(X_train_sf)"
   ]
  },
  {
   "cell_type": "code",
   "execution_count": 10,
   "metadata": {},
   "outputs": [
    {
     "name": "stdout",
     "output_type": "stream",
     "text": [
      "['x0_?' 'x0_AfricanAmerican' 'x0_Asian' 'x0_Caucasian' 'x0_Hispanic'\n",
      " 'x0_Other' 'x1_Female' 'x1_Male' 'x1_Unknown/Invalid' 'x2_[0-10)'\n",
      " 'x2_[10-20)' 'x2_[20-30)' 'x2_[30-40)' 'x2_[40-50)' 'x2_[50-60)'\n",
      " 'x2_[60-70)' 'x2_[70-80)' 'x2_[80-90)' 'x2_[90-100)' 'x3_>200' 'x3_?'\n",
      " 'x3_[0-25)' 'x3_[100-125)' 'x3_[125-150)' 'x3_[150-175)' 'x3_[175-200)'\n",
      " 'x3_[25-50)' 'x3_[50-75)' 'x3_[75-100)' 'x4_1' 'x4_2' 'x4_3' 'x4_4'\n",
      " 'x4_5' 'x4_6' 'x4_7' 'x4_8' 'x4_9' 'x4_10' 'x4_11' 'x4_12' 'x4_13'\n",
      " 'x4_14' 'x5_1' 'x5_2' 'x5_3' 'x5_4' 'x5_5' 'x5_6' 'x5_7' 'x5_8' 'x5_9'\n",
      " 'x5_10' 'x5_11' 'x5_12' 'x5_13' 'x5_14' 'x5_15' 'x5_16' 'x5_17' 'x5_18'\n",
      " 'x5_19' 'x5_20' 'x5_21' 'x5_22' 'x5_23' 'x5_24' 'x5_25' 'x5_26' 'x5_27'\n",
      " 'x5_28' 'x5_29' 'x5_30' 'x5_31' 'x5_32' 'x5_33' 'x5_34' 'x5_35' 'x5_36'\n",
      " 'x5_37' 'x5_38' 'x5_39' 'x5_40' 'x5_41' 'x5_42' 'x5_43' 'x5_44' 'x5_45'\n",
      " 'x5_46' 'x5_47' 'x5_48' 'x5_49' 'x5_50' 'x5_51' 'x5_52' 'x5_53' 'x5_54'\n",
      " 'x5_55' 'x5_56' 'x5_57' 'x5_58' 'x5_59' 'x5_60' 'x5_61' 'x5_62' 'x5_63'\n",
      " 'x5_64' 'x5_65' 'x5_66' 'x5_67' 'x5_68' 'x5_69' 'x5_70' 'x5_71' 'x5_72'\n",
      " 'x5_73' 'x5_74' 'x5_75' 'x5_76' 'x5_77' 'x5_78' 'x5_79' 'x5_80' 'x5_81'\n",
      " 'x5_82' 'x5_83' 'x5_84' 'x5_85' 'x5_86' 'x5_87' 'x5_88' 'x5_89' 'x5_90'\n",
      " 'x5_91' 'x5_92' 'x5_93' 'x5_94' 'x5_95' 'x5_96' 'x5_97' 'x5_98' 'x5_99'\n",
      " 'x5_100' 'x5_101' 'x5_102' 'x5_103' 'x5_104' 'x5_105' 'x5_106' 'x5_107'\n",
      " 'x5_108' 'x5_109' 'x5_111' 'x5_113' 'x5_114' 'x5_118' 'x5_120' 'x5_121'\n",
      " 'x5_129' 'x5_132' 'x6_0' 'x6_1' 'x6_2' 'x6_3' 'x6_4' 'x6_5' 'x6_6' 'x7_1'\n",
      " 'x7_2' 'x7_3' 'x7_4' 'x7_5' 'x7_6' 'x7_7' 'x7_8' 'x7_9' 'x7_10' 'x7_11'\n",
      " 'x7_12' 'x7_13' 'x7_14' 'x7_15' 'x7_16' 'x7_17' 'x7_18' 'x7_19' 'x7_20'\n",
      " 'x7_21' 'x7_22' 'x7_23' 'x7_24' 'x7_25' 'x7_26' 'x7_27' 'x7_28' 'x7_29'\n",
      " 'x7_30' 'x7_31' 'x7_32' 'x7_33' 'x7_34' 'x7_35' 'x7_36' 'x7_37' 'x7_38'\n",
      " 'x7_39' 'x7_40' 'x7_41' 'x7_42' 'x7_43' 'x7_44' 'x7_45' 'x7_46' 'x7_47'\n",
      " 'x7_48' 'x7_49' 'x7_50' 'x7_51' 'x7_52' 'x7_53' 'x7_54' 'x7_55' 'x7_56'\n",
      " 'x7_57' 'x7_58' 'x7_59' 'x7_60' 'x7_61' 'x7_62' 'x7_63' 'x7_64' 'x7_65'\n",
      " 'x7_66' 'x7_67' 'x7_68' 'x7_69' 'x7_70' 'x7_72' 'x7_74' 'x7_75' 'x7_79']\n"
     ]
    }
   ],
   "source": [
    "# The one-hot-encoder renames the features. Let's take a look at the new names.\n",
    "feature_names = ohe.get_feature_names()\n",
    "print(feature_names)"
   ]
  },
  {
   "cell_type": "code",
   "execution_count": 11,
   "metadata": {},
   "outputs": [],
   "source": [
    "# We can now encode the training and test set with the new features\n",
    "X_train_sf_encoded = ohe.transform(X_train_sf)\n",
    "X_test_sf_encoded = ohe.transform(X_test_sf)"
   ]
  },
  {
   "cell_type": "markdown",
   "metadata": {},
   "source": [
    "**(TO DO) Q3 - 2 marks**   \n",
    "How many features are there now, after the one-hot-encoder? Why so many? Show the shape of the training set now."
   ]
  },
  {
   "cell_type": "code",
   "execution_count": 12,
   "metadata": {},
   "outputs": [
    {
     "name": "stdout",
     "output_type": "stream",
     "text": [
      "241\n",
      "There are many due to the attributes of each feature being set as its own feature.\n",
      "(76324, 241)\n"
     ]
    }
   ],
   "source": [
    "# How many features are there now (must get from code)?\n",
    "print(X_train_sf_encoded.shape[1])\n",
    "# Why so many?\n",
    "print(\"There are many due to the attributes of each feature being set as its own feature.\")\n",
    "# Show the shape of the training set after the one-hot encoding.\n",
    "print(X_train_sf_encoded.shape)"
   ]
  },
  {
   "cell_type": "markdown",
   "metadata": {},
   "source": [
    "**5. Baseline model**  \n",
    "Now that we have setup our encoded features we will start by using a Logistic Regression Classifier to perform supervised learning on our dataset."
   ]
  },
  {
   "cell_type": "markdown",
   "metadata": {},
   "source": [
    "***5.1 Defining the Logistic Regression Classifier***   \n",
    "First we will define our Logistic Regression Classifier with scikit learn."
   ]
  },
  {
   "cell_type": "code",
   "execution_count": 13,
   "metadata": {},
   "outputs": [],
   "source": [
    "# Import the Logistic Regression model from scikit and matplot\n",
    "from sklearn.linear_model import LogisticRegression\n",
    "import datetime"
   ]
  },
  {
   "cell_type": "code",
   "execution_count": 14,
   "metadata": {},
   "outputs": [],
   "source": [
    "# Define the model\n",
    "clf_lr = LogisticRegression(solver='lbfgs', multi_class=\"multinomial\", max_iter=1000, random_state=1)"
   ]
  },
  {
   "cell_type": "markdown",
   "metadata": {},
   "source": [
    "***5.2 Training the Logistic Regression Classifier***  \n",
    "Now that the model is defined, we need to train our model with the train set to learn how to classify our target class *readmitted*."
   ]
  },
  {
   "cell_type": "code",
   "execution_count": 15,
   "metadata": {},
   "outputs": [],
   "source": [
    "# This function trains a given model and returns a list of scores\n",
    "#   clf:     The untrained model to train\n",
    "#   X_train: The encoded attributes of the training set\n",
    "#   y_train: The target values of the training set\n",
    "def train_model(clf, X_train, y_train, epochs=10):\n",
    "    scores = []\n",
    "    print(\"Starting training...\")\n",
    "    for i in range(1, epochs + 1):\n",
    "        print(\"Epoch:\" + str(i) + \"/\" + str(epochs) + \" -- \" + str(datetime.datetime.now()))\n",
    "        clf.fit(X_train, y_train)\n",
    "        score = clf.score(X_train, y_train)\n",
    "        scores.append(score)\n",
    "    print(\"Done training.\")\n",
    "    return scores"
   ]
  },
  {
   "cell_type": "markdown",
   "metadata": {},
   "source": [
    "**(TO DO) Q4 - 1 mark**   \n",
    "Looking at the function train_model, what is the *score* (clf.score())? You may need to look at the official documentation for the LogisticRegression to understand this. Explain below."
   ]
  },
  {
   "cell_type": "markdown",
   "metadata": {},
   "source": [
    "Q4 - ANSWER   \n",
    "The score refers to the mean accuracy at a given epoch of the training. Specifically, this function computes the mean accuracy of the encoded train set and their labels at each epoch.     "
   ]
  },
  {
   "cell_type": "code",
   "execution_count": 16,
   "metadata": {},
   "outputs": [
    {
     "name": "stdout",
     "output_type": "stream",
     "text": [
      "Starting training...\n",
      "Epoch:1/1 -- 2019-10-29 12:32:14.457437\n",
      "Done training.\n",
      "[0.5424375032755097]\n"
     ]
    }
   ],
   "source": [
    "# Now let's train the model (recall that we use the training set)\n",
    "# We run for only one epoch and will only get one score\n",
    "clf_lr_scores = train_model(clf_lr, X_train_sf_encoded, y_train, 1)\n",
    "print(clf_lr_scores)"
   ]
  },
  {
   "cell_type": "markdown",
   "metadata": {},
   "source": [
    "**(TO DO) Q5 - 2 marks**   \n",
    "Describe what the output from the code below means and what the code is doing.  \n",
    "Afterwards, give the accuracy of the printed results (just manually state it, no need to code)."
   ]
  },
  {
   "cell_type": "code",
   "execution_count": 17,
   "metadata": {},
   "outputs": [
    {
     "name": "stdout",
     "output_type": "stream",
     "text": [
      "['NO' 'NO' 'NO' 'NO' 'NO' 'NO' 'NO' 'NO' 'NO' 'NO']\n",
      "['NO' 'NO' 'NO' 'NO' '>30' 'NO' '>30' 'NO' '>30' 'NO']\n"
     ]
    },
    {
     "data": {
      "text/plain": [
       "array([[0.09856069, 0.38156115, 0.51987816],\n",
       "       [0.12195006, 0.27905893, 0.59899101],\n",
       "       [0.13541204, 0.37113368, 0.49345428],\n",
       "       [0.03136131, 0.19465314, 0.77398555],\n",
       "       [0.11034688, 0.43307929, 0.45657383],\n",
       "       [0.11142775, 0.27548403, 0.61308822],\n",
       "       [0.06312546, 0.17278625, 0.7640883 ],\n",
       "       [0.12249663, 0.1869043 , 0.69059907],\n",
       "       [0.12589162, 0.35164154, 0.52246684],\n",
       "       [0.10009126, 0.26996526, 0.62994348]])"
      ]
     },
     "execution_count": 17,
     "metadata": {},
     "output_type": "execute_result"
    }
   ],
   "source": [
    "y_predicted = clf_lr.predict(X_train_sf_encoded[0:10])\n",
    "print(y_predicted)\n",
    "print(y_train[0:10])\n",
    "clf_lr.predict_proba(X_train_sf_encoded[0:10])"
   ]
  },
  {
   "cell_type": "markdown",
   "metadata": {},
   "source": [
    "TO DO - Answers   \n",
    "\n",
    "1) y_predicted:\n",
    "The code is predicting the first ten elements of the train set with the trained model.   \n",
    "2) y_train[0:10]: \n",
    "The actual tags for the first ten elements of the train set   \n",
    "3) clf_lr.predict_proba(X_train_sf_encoded[0:10]): \n",
    "The probabilities associated with each prediction (how the class tag was chosen)   \n",
    "4) Accuracy = 7/10 = 70%"
   ]
  },
  {
   "cell_type": "markdown",
   "metadata": {},
   "source": [
    "**5.3 Testing the Logistic Regression Model**   \n",
    "Now that we have our trained model, let's test it on the test set."
   ]
  },
  {
   "cell_type": "markdown",
   "metadata": {},
   "source": [
    "**(TO DO) Q6 - 2 marks**   \n",
    "Evaluate the model on the test set by computing it's *score* (recall how the score is computed when training) and compare that to the training set scores (you have this value from clf_lr_scores). Print which is better and give one reason why these results may have ended up this way."
   ]
  },
  {
   "cell_type": "code",
   "execution_count": 18,
   "metadata": {},
   "outputs": [
    {
     "name": "stdout",
     "output_type": "stream",
     "text": [
      "0.54370725571889\n",
      "0.5424375032755097\n",
      "Here the test set does slightly better.\n",
      "Ex: Unable to learn training set properly completely, so generalized better on the test set.\n"
     ]
    }
   ],
   "source": [
    "score_lr_test = clf_lr.score(X_test_sf_encoded, y_test)\n",
    "print(score_lr_test)\n",
    "print(clf_lr_scores[0])\n",
    "print(\"Here the test set does slightly better.\")\n",
    "# Any valid reason/explanation is okay\n",
    "print(\"Ex: Unable to learn training set properly completely, so generalized better on the test set.\")"
   ]
  },
  {
   "cell_type": "markdown",
   "metadata": {},
   "source": [
    "**6. MLP**   \n",
    "After working with our Baseline model, let's try using a Multi Layer Perceptron Classifier to try to perform supervised learning on our dataset."
   ]
  },
  {
   "cell_type": "markdown",
   "metadata": {},
   "source": [
    "***6.1 Defining the MLPClassifier***   \n",
    "First we will define our MLPClassifier with scikit learn."
   ]
  },
  {
   "cell_type": "code",
   "execution_count": 19,
   "metadata": {},
   "outputs": [],
   "source": [
    "# Import the MLP model from scikit and matplot\n",
    "from sklearn.neural_network import MLPClassifier"
   ]
  },
  {
   "cell_type": "code",
   "execution_count": 20,
   "metadata": {},
   "outputs": [],
   "source": [
    "# Define the model\n",
    "clf_mlp = MLPClassifier(solver='lbfgs', alpha=1e-4, hidden_layer_sizes=(150, 150), random_state=1, max_iter=100, learning_rate_init=0.01, warm_start=True)"
   ]
  },
  {
   "cell_type": "markdown",
   "metadata": {},
   "source": [
    "**(TO DO) Q7 - 4 marks**   \n",
    "Explain *in your own words* the parameters chosen above. What do they all mean and explain how the chosen values for each parameter will affect the model."
   ]
  },
  {
   "cell_type": "markdown",
   "metadata": {},
   "source": [
    "Q7 - ANSWER   \n",
    "1. solver='lbfgs': Using the lbfgs solver for model optimization. Will optimize weight values during training\n",
    "2. alpha=1e-4: The L2 Regularization penalty. Here the decay is set to 1e-4 and will help prevent overfitting.\n",
    "3. hidden_layer_sizes=(150, 150): Using two layers, both of size 150. Bigger sizes and more layers will make the model more complex. Here they will simply affect the results.\n",
    "4. random_state=1: We use seed 1 for any randomization. Affects the output.\n",
    "5. max_iter=100: The max number of iterations is set to 100, will end if past that.\n",
    "6. learning_rate_init=0.01: The learning rate. This will affect the rate at which learning is done. Here is is not too small which will result in moderate learning speeds.\n",
    "7. warm_start=True: Allows the model to be trained several times, remembering its new configuration after being trained. Will allow training over several epochs."
   ]
  },
  {
   "cell_type": "markdown",
   "metadata": {},
   "source": [
    "***6.2 Training, Testing, and Discussing the MLPClassifier***  \n",
    "Now that the model is defined, we need to train our model with the train set to learn how to classify our target class *readmitted*. This time we will be training the MLP model for several epochs with an updated training algorithm. Finally we will plot our retrieved scores, discuss them, and compare them with with the Baseline Model."
   ]
  },
  {
   "cell_type": "code",
   "execution_count": 21,
   "metadata": {},
   "outputs": [],
   "source": [
    "# Plots the train and the test scores\n",
    "def plotScores(scores_train, scores_test):\n",
    "    # Plot the points\n",
    "    plt.plot([i for i in range(len(scores_train))], scores_train)\n",
    "    plt.plot([i for i in range(len(scores_test))], scores_test)\n",
    "    # Setup the legend\n",
    "    plt.legend([\"Train scores\", \"Test Scores\"])\n",
    "    # Labels for the x and y axis\n",
    "    plt.ylabel(\"Score\")\n",
    "    plt.xlabel(\"Epoch\")\n",
    "    plt.show()"
   ]
  },
  {
   "cell_type": "markdown",
   "metadata": {},
   "source": [
    "**(TO DO) Q8 - 6 marks**   \n",
    "1. You must define the function train_and_evaluate() below. This function must take as input a classifier, the training set, the testing set, and the number of epochs. Inspired from the provided function train_model(), train the model as usual (use 10 epochs), but now track the scores from both the train and the test sets at each epoch. Return both of these results.  \n",
    "2. Once defined, train clf_mlp with train_and_evaluate() for ten epochs.\n",
    "3. Take the MLPClassifier results and plot them with the plotting function above.   \n",
    "4. Describe the behaviour of the scores found during the training. Did the train or the test set produce the best results? What do these results mean? \n",
    "5. Did the MLP do better or worse than the Baseline Logistic Regression Model (and by how much)? Why do you think that it did better/worse?\n",
    "6. Here we track the *score* as we train the model. This is useful to track how the training is going. Given your previous answer on what the *score* is, what would be another useful metric to track while training. Hint: What are we *minimizing* while training?"
   ]
  },
  {
   "cell_type": "code",
   "execution_count": 22,
   "metadata": {},
   "outputs": [],
   "source": [
    "# TO DO part 1 - create the train_and_evaluate function\n",
    "def train_and_evaluate(clf, X_train, y_train, X_test, y_test, epochs=10):\n",
    "    train_scores = []\n",
    "    test_scores = []\n",
    "    print(\"Starting training...\")\n",
    "    for i in range(1, epochs + 1):\n",
    "        print(\"Epoch:\" + str(i) + \"/\" + str(epochs) + \" -- \" + str(datetime.datetime.now()))\n",
    "        clf.fit(X_train, y_train)\n",
    "        train_score = clf.score(X_train, y_train)\n",
    "        train_scores.append(train_score)\n",
    "        test_score = clf.score(X_test, y_test)\n",
    "        test_scores.append(test_score)\n",
    "    print(\"Done training.\")\n",
    "    return train_scores, test_scores"
   ]
  },
  {
   "cell_type": "code",
   "execution_count": 23,
   "metadata": {},
   "outputs": [
    {
     "name": "stdout",
     "output_type": "stream",
     "text": [
      "Starting training...\n",
      "Epoch:1/10 -- 2019-10-29 12:32:40.295629\n",
      "Epoch:2/10 -- 2019-10-29 12:34:26.690194\n",
      "Epoch:3/10 -- 2019-10-29 12:36:12.712137\n",
      "Epoch:4/10 -- 2019-10-29 12:37:59.170871\n",
      "Epoch:5/10 -- 2019-10-29 12:39:42.322058\n",
      "Epoch:6/10 -- 2019-10-29 12:41:27.413484\n",
      "Epoch:7/10 -- 2019-10-29 12:43:10.491116\n",
      "Epoch:8/10 -- 2019-10-29 12:44:57.172724\n",
      "Epoch:9/10 -- 2019-10-29 12:46:40.848438\n",
      "Epoch:10/10 -- 2019-10-29 12:48:24.781623\n",
      "Done training.\n"
     ]
    }
   ],
   "source": [
    "# TO DO part 2\n",
    "# Train for *10* epochs, NOT 1. This will take a while so be patient!\n",
    "train_scores_mlp, test_scores_mlp = train_and_evaluate(clf_mlp, X_train_sf_encoded, y_train, X_test_sf_encoded, y_test, 10)"
   ]
  },
  {
   "cell_type": "code",
   "execution_count": 24,
   "metadata": {},
   "outputs": [
    {
     "data": {
      "image/png": "[encoded data removed]",
      "text/plain": [
       "<Figure size 432x288 with 1 Axes>"
      ]
     },
     "metadata": {
      "needs_background": "light"
     },
     "output_type": "display_data"
    }
   ],
   "source": [
    "# TO DO part 3\n",
    "plotScores(train_scores_mlp, test_scores_mlp)"
   ]
  },
  {
   "cell_type": "markdown",
   "metadata": {},
   "source": [
    "ANSWERS  \n",
    "\n",
    "TO DO part 4    \n",
    "The train scores were much better than the test scores. This means that the model learns the training data well, but does note generalize well to the test data.   \n",
    "\n",
    "TO DO part 5   \n",
    "The train scores was better than the Logistic Regression Classifier's train score (by a lot), but the test scores were worse than the Logistic Regression Classifier's test score. This is due to the MLP overfitting the data. Since it performs well on the train set, it does not perform well on the test set due to poor generalization.\n",
    "\n",
    "TO DO part 6   \n",
    "Tracking the loss would be useful. We want to minimize the loss from the loss function while training to maximize performance."
   ]
  },
  {
   "cell_type": "markdown",
   "metadata": {},
   "source": [
    "**7. Trying a slightly different model with different feature selection**  \n",
    "Now that we have run through the Baseline and the MLP classifiers, let us try one more MLP with a smaller feature selection. This time you will be creating the model by with random features to use from our original list of features. The following TO DO gives an overview of the entire task."
   ]
  },
  {
   "cell_type": "markdown",
   "metadata": {},
   "source": [
    "**(TO DO) Q9 - 5 marks**   \n",
    "First, insert a seed of your choice for the randomization.  \n",
    "Create a new list of features containing a random four features from featureSet, we call this list randomFeatures. Then use that list to complete the encoding process using ohe_rand.   \n",
    "Once done, use the train_and_evaluate() function to train the model. Plot the results. Finally compare the test results from clf_rand (obtained here) with the results from clf_mlp (state which did better, posting the scores and the random feature set selected)."
   ]
  },
  {
   "cell_type": "code",
   "execution_count": 25,
   "metadata": {},
   "outputs": [
    {
     "name": "stdout",
     "output_type": "stream",
     "text": [
      "['age', 'time_in_hospital', 'race', 'num_medications']\n"
     ]
    }
   ],
   "source": [
    "import random\n",
    "\n",
    "# Setup a seed\n",
    "random.seed(1)\n",
    "\n",
    "# Setting up our one-hot encoder\n",
    "ohe_rand = OneHotEncoder(sparse=False, handle_unknown='ignore')\n",
    "\n",
    "# Since the dataset is quite large, try with a subset of features\n",
    "featureSet = ['race','gender','age', 'weight', 'time_in_hospital', 'num_lab_procedures', 'num_procedures',\n",
    " 'num_medications']\n",
    "\n",
    "randomFeatures = random.sample(featureSet, k=4)\n",
    "print(randomFeatures)\n",
    "\n",
    "X_train_rand = X_train[randomFeatures].copy()\n",
    "X_test_rand = X_test[randomFeatures].copy()\n",
    "ohe_rand.fit(X_train_rand)\n",
    "\n",
    "X_train_rand_encoded = ohe_rand.transform(X_train_rand)\n",
    "X_test_rand_encoded = ohe_rand.transform(X_test_rand)"
   ]
  },
  {
   "cell_type": "code",
   "execution_count": 26,
   "metadata": {},
   "outputs": [
    {
     "name": "stdout",
     "output_type": "stream",
     "text": [
      "Starting training...\n",
      "Epoch:1/10 -- 2019-10-29 12:50:34.748749\n",
      "Epoch:2/10 -- 2019-10-29 12:52:13.088505\n",
      "Epoch:3/10 -- 2019-10-29 12:53:49.977058\n",
      "Epoch:4/10 -- 2019-10-29 12:55:28.076432\n",
      "Epoch:5/10 -- 2019-10-29 12:57:04.637284\n",
      "Epoch:6/10 -- 2019-10-29 12:58:41.447336\n",
      "Epoch:7/10 -- 2019-10-29 13:00:18.174669\n",
      "Epoch:8/10 -- 2019-10-29 13:01:55.827930\n",
      "Epoch:9/10 -- 2019-10-29 13:03:32.797960\n",
      "Epoch:10/10 -- 2019-10-29 13:05:10.312229\n",
      "Done training.\n"
     ]
    },
    {
     "data": {
      "image/png": "[encoded data removed]",
      "text/plain": [
       "<Figure size 432x288 with 1 Axes>"
      ]
     },
     "metadata": {
      "needs_background": "light"
     },
     "output_type": "display_data"
    }
   ],
   "source": [
    "clf_rand = MLPClassifier(solver='lbfgs', alpha=1e-4, hidden_layer_sizes=(150, 150), random_state=1, max_iter=100, learning_rate_init=0.01, warm_start=True)\n",
    "\n",
    "# ANSWER\n",
    "# TO DO - Train the model, plot the results\n",
    "train_scores_rand, test_scores_rand = train_and_evaluate(clf_rand, X_train_rand_encoded, y_train, X_test_rand_encoded, y_test, 10)\n",
    "plotScores(train_scores_rand, test_scores_rand)"
   ]
  },
  {
   "cell_type": "markdown",
   "metadata": {},
   "source": [
    "**8. Looking at the loss curve**  \n",
    "We will do one final run of a MLP, but this time we will use solver=\"SGD\". Using this allows us to look at the loss curve during it's training."
   ]
  },
  {
   "cell_type": "code",
   "execution_count": 27,
   "metadata": {},
   "outputs": [],
   "source": [
    "clf_sgd = MLPClassifier(solver='sgd', alpha=1e-4, hidden_layer_sizes=(150, 150), random_state=1, max_iter=150, learning_rate_init=0.1, warm_start=True)"
   ]
  },
  {
   "cell_type": "code",
   "execution_count": 28,
   "metadata": {},
   "outputs": [],
   "source": [
    "# Plots the loss from the trained model\n",
    "# NOTE: clf.loss_curve_ only exists when using solver=\"SGD\"\n",
    "def plot_loss(clf):\n",
    "    plt.plot(clf.loss_curve_)\n",
    "    plt.ylabel('Loss')\n",
    "    plt.xlabel('Epoch')\n",
    "    plt.show()"
   ]
  },
  {
   "cell_type": "markdown",
   "metadata": {},
   "source": [
    "**(TO DO) Q10 - 3 marks**   \n",
    "Train and evaluate the model using train_and_evaluate (for 1 epoch, using X_train_sf_encoded and X_test_sf_encoded). Display the plot exhibiting the loss function when being trained. Briefly describe what the loss function represents (and why it's important)."
   ]
  },
  {
   "cell_type": "code",
   "execution_count": 29,
   "metadata": {},
   "outputs": [
    {
     "name": "stdout",
     "output_type": "stream",
     "text": [
      "Starting training...\n",
      "Epoch:1/1 -- 2019-10-29 13:06:48.254301\n"
     ]
    },
    {
     "name": "stderr",
     "output_type": "stream",
     "text": [
      "c:\\users\\julian templeton\\appdata\\local\\programs\\python\\python37\\lib\\site-packages\\sklearn\\neural_network\\multilayer_perceptron.py:566: ConvergenceWarning: Stochastic Optimizer: Maximum iterations (150) reached and the optimization hasn't converged yet.\n",
      "  % self.max_iter, ConvergenceWarning)\n"
     ]
    },
    {
     "name": "stdout",
     "output_type": "stream",
     "text": [
      "Done training.\n"
     ]
    },
    {
     "data": {
      "image/png": "[encoded data removed]",
      "text/plain": [
       "<Figure size 432x288 with 1 Axes>"
      ]
     },
     "metadata": {
      "needs_background": "light"
     },
     "output_type": "display_data"
    }
   ],
   "source": [
    "# ANSWER\n",
    "\n",
    "train_and_evaluate(clf_sgd, X_train_sf_encoded, y_train, X_test_sf_encoded, y_test, 1)\n",
    "plot_loss(clf_sgd)"
   ]
  },
  {
   "cell_type": "markdown",
   "metadata": {},
   "source": [
    "TO DO - What does the loss curve represent and why is it important?   \n",
    "ANSWER:   \n",
    "\n",
    "It represents the minimization of the loss function by optimizing the weights through Stochastic Gradient Descent and Backpropagation. This is important since this is how the network learns. Analyzing the loss curve shows how much the model is learning and gives us a better idea as to how to tweak the model."
   ]
  },
  {
   "cell_type": "markdown",
   "metadata": {},
   "source": [
    "#### Signature\n",
    "\n",
    "I, SUZIE OH, declare that the answers provided in this notebook are my own."
   ]
  },
  {
   "cell_type": "code",
   "execution_count": null,
   "metadata": {},
   "outputs": [],
   "source": []
  }
 ],
 "metadata": {
  "kernelspec": {
   "display_name": "Python 3",
   "language": "python",
   "name": "python3"
  },
  "language_info": {
   "codemirror_mode": {
    "name": "ipython",
    "version": 3
   },
   "file_extension": ".py",
   "mimetype": "text/x-python",
   "name": "python",
   "nbconvert_exporter": "python",
   "pygments_lexer": "ipython3",
   "version": "3.7.7"
  }
 },
 "nbformat": 4,
 "nbformat_minor": 4
}
